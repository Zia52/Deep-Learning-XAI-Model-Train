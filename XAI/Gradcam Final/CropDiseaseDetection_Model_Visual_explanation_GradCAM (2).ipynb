{
  "nbformat": 4,
  "nbformat_minor": 0,
  "metadata": {
    "colab": {
      "provenance": [],
      "gpuType": "T4"
    },
    "kernelspec": {
      "name": "python3",
      "display_name": "Python 3"
    },
    "language_info": {
      "name": "python"
    },
    "accelerator": "GPU"
  },
  "cells": [
    {
      "cell_type": "markdown",
      "source": [
        "## About Grad-CAM Heatmap\n",
        "\n",
        "Grad-CAM is a CNN model explanation technique which helps in visualizing the regions of the image where the CNN model is looking at for classification.\n",
        "\n",
        "In this technique, gradients flows through the last convolution layer to produce a **coarse localization map** highlighting the important regions in the image for predicting the concept.\n",
        "\n",
        "It is based on the research paper **\"[Grad-CAM: Visual Explanations from Deep Networks via Gradient-based Localization](https://arxiv.org/abs/1610.02391)\"**"
      ],
      "metadata": {
        "id": "7fmkAUOjXdzs"
      }
    },
    {
      "cell_type": "code",
      "execution_count": 44,
      "metadata": {
        "id": "r_Wo4dhwXLtp"
      },
      "outputs": [],
      "source": [
        "import pandas as pd\n",
        "#math operations\n",
        "import numpy as np\n",
        "#machine learning\n",
        "import cv2\n",
        "import os\n",
        "from tqdm import tqdm\n",
        "import random\n",
        "#for opening and loading image\n",
        "from PIL import Image\n",
        "#for preprocessing\n",
        "from tensorflow.keras.preprocessing import image\n",
        "import matplotlib.pyplot as plt\n",
        "#Doing One hot encoding as classifier has multiple classes\n",
        "from random import shuffle\n",
        "#MobileNetV2 model\n",
        "from tensorflow.keras.applications.mobilenet_v2 import MobileNetV2\n",
        "from tensorflow.keras import Model, layers\n",
        "from numpy import loadtxt\n",
        "from tensorflow.keras.applications.imagenet_utils import preprocess_input, decode_predictions\n",
        "from tensorflow.keras.models import load_model\n",
        "\n",
        "import matplotlib.pyplot as plt\n",
        "import matplotlib.cm as cm\n",
        "import tensorflow as tf"
      ]
    },
    {
      "cell_type": "code",
      "source": [
        "from google.colab import drive\n",
        "drive.mount('/content/drive')"
      ],
      "metadata": {
        "colab": {
          "base_uri": "https://localhost:8080/"
        },
        "id": "245j7mQHXaxO",
        "outputId": "0fa7cfe9-7df6-4811-b9c6-6f5327953fd4"
      },
      "execution_count": 45,
      "outputs": [
        {
          "output_type": "stream",
          "name": "stdout",
          "text": [
            "Drive already mounted at /content/drive; to attempt to forcibly remount, call drive.mount(\"/content/drive\", force_remount=True).\n"
          ]
        }
      ]
    },
    {
      "cell_type": "markdown",
      "source": [
        "## Loading Model"
      ],
      "metadata": {
        "id": "aF-WCcyIZgvW"
      }
    },
    {
      "cell_type": "code",
      "source": [
        "model = load_model('/content/drive/MyDrive/Version 8/Thesis_Demo_Simulation_6(With 8 Class) Best Result.h5')"
      ],
      "metadata": {
        "id": "jCsG4Z4XZQAg"
      },
      "execution_count": 46,
      "outputs": []
    },
    {
      "cell_type": "code",
      "source": [
        "img1 = \"/content/drive/MyDrive/Dataset_V_6/test/Apple___healthy/04d4f065-5cb8-4122-b479-d1362d007276___RS_HL 7719.JPG\"\n",
        "img2 = \"/content/drive/MyDrive/Dataset_V_6/test/Apple___Apple_scab/augmented_663ad178-6346-4b89-8074-6655f1be1578___FREC_Scab 3500_0_7445.jpg\"\n",
        "img3 = \"/content/drive/MyDrive/Dataset_V_6/test/Apple___Black_rot/e9df76bc-d175-42c9-990e-6e6c5f5ac5ce___JR_FrgE.S 8663.JPG\"\n",
        "img4 = \"/content/drive/MyDrive/Dataset_V_6/test/Apple___Cedar_apple_rust/112cfc79-00ab-4920-a235-977c134bdb5d___FREC_C.Rust 4365.JPG\"\n",
        "img5 = \"/content/drive/MyDrive/Dataset_V_6/test/Corn_(maize)___healthy/0305800e-de91-4742-b923-f9a1c0799392___R.S_HL 8116 copy.jpg\"\n",
        "img6 = \"/content/drive/MyDrive/Dataset_V_6/test/Corn_(maize)___Cercospora_leaf_spot Gray_leaf_spot/c826221e-a999-4509-a7ed-d62726ca6078___RS_GLSp 4332.JPG\"\n",
        "img7 = \"/content/drive/MyDrive/Dataset_V_6/test/Corn_(maize)___Common_rust_/RS_Rust 1577.JPG\"\n",
        "img8 = \"/content/drive/MyDrive/Dataset_V_6/test/Corn_(maize)___Northern_Leaf_Blight/143ff440-2efd-4bc9-8312-265363c0872f___RS_NLB 3625.JPG\""
      ],
      "metadata": {
        "id": "NDgHCNphZitZ"
      },
      "execution_count": 47,
      "outputs": []
    },
    {
      "cell_type": "code",
      "source": [
        "img_path='/content/drive/MyDrive/Dataset_V_6/test/Apple___Apple_scab/0d3c0790-7833-470b-ac6e-94d0a3bf3e7c___FREC_Scab 2959.JPG'\n",
        "img = Image.open(img_path).resize((256,256)) #target_size must agree with what the trained model expects!!\n",
        "\n",
        "# Preprocessing the image\n",
        "img = image.img_to_array(img)\n",
        "img = np.expand_dims(img, axis=0)\n",
        "img = img.astype('float32')/255"
      ],
      "metadata": {
        "id": "qnEt5gXmZ07p"
      },
      "execution_count": 48,
      "outputs": []
    },
    {
      "cell_type": "code",
      "source": [
        "class_dict ={0:\"Apple___Apple_scab\",\n",
        "             1:\"Apple___Black_rot\",\n",
        "             2:\"Apple___Cedar_apple_rust\",\n",
        "             3:\"Apple___healthy\",\n",
        "             4:\"Corn_(maize)___Cercospora_leaf_spot Gray_leaf_spot\",\n",
        "             5:\"Corn_(maize)___Common_rust_\",\n",
        "             6:\"Corn_(maize)___Northern_Leaf_Blight\",\n",
        "             7:\"Corn_(maize)___healthy\",\n",
        "             8:\"Grape___Black_rot\",\n",
        "             9:\"Grape___Esca_(Black_Measles)\",\n",
        "             10:\"Grape___Leaf_blight_(Isariopsis_Leaf_Spot)\",\n",
        "             11:\"Grape___healthy\",\n",
        "             12:\"Potato___Early_blight\",\n",
        "             13:\"Potato___Late_blight\",\n",
        "             14:\"Potato___healthy\",\n",
        "             15:\"Tomato___Bacterial_spot\",\n",
        "             16:\"Tomato___Early_blight\",\n",
        "             17:\"Tomato___Late_blight\",\n",
        "             18:\"Tomato___Leaf_Mold\",\n",
        "             19:\"Tomato___Septoria_leaf_spot\",\n",
        "             20:\"Tomato___Spider_mites Two-spotted_spider_mite\",\n",
        "             21:\"Tomato___Target_Spot\",\n",
        "             22:\"Tomato___Tomato_Yellow_Leaf_Curl_Virus\",\n",
        "             23:\"Tomato___Tomato_mosaic_virus\",\n",
        "             24:\"Tomato___healthy\"}"
      ],
      "metadata": {
        "id": "4JVSbLBDZ74c"
      },
      "execution_count": 49,
      "outputs": []
    },
    {
      "cell_type": "markdown",
      "source": [
        "# ***Prediction***"
      ],
      "metadata": {
        "id": "lssG2F830woC"
      }
    },
    {
      "cell_type": "code",
      "source": [
        "def pred_image(img_path,model):\n",
        "  img = Image.open(img_path).resize((256,256)) #target_size must agree with what the trained model expects!!\n",
        "  # Preprocessing the image\n",
        "  img = image.img_to_array(img)\n",
        "  img = np.expand_dims(img, axis=0)\n",
        "  img = img.astype('float32')/255\n",
        "\n",
        "  preds = model.predict(img)[0]\n",
        "  prediction = sorted(\n",
        "      [(class_dict[i], round(j*100, 2)) for i, j in enumerate(preds)],\n",
        "      reverse=True,\n",
        "      key=lambda x: x[1]\n",
        "  )\n",
        "\n",
        "  return prediction"
      ],
      "metadata": {
        "id": "Cz7kYoBJaFLM"
      },
      "execution_count": 50,
      "outputs": []
    },
    {
      "cell_type": "code",
      "source": [
        "pred_image(img1,model)"
      ],
      "metadata": {
        "colab": {
          "base_uri": "https://localhost:8080/"
        },
        "id": "BpUieoj4aGNE",
        "outputId": "0ed9d374-8219-4ca6-8e7d-2b44ad5bd1d0"
      },
      "execution_count": 51,
      "outputs": [
        {
          "output_type": "stream",
          "name": "stdout",
          "text": [
            "1/1 [==============================] - 0s 200ms/step\n"
          ]
        },
        {
          "output_type": "execute_result",
          "data": {
            "text/plain": [
              "[('Apple___healthy', 99.64),\n",
              " ('Apple___Apple_scab', 0.17),\n",
              " ('Apple___Black_rot', 0.17),\n",
              " ('Corn_(maize)___Northern_Leaf_Blight', 0.02),\n",
              " ('Corn_(maize)___healthy', 0.01),\n",
              " ('Apple___Cedar_apple_rust', 0.0),\n",
              " ('Corn_(maize)___Cercospora_leaf_spot Gray_leaf_spot', 0.0),\n",
              " ('Corn_(maize)___Common_rust_', 0.0)]"
            ]
          },
          "metadata": {},
          "execution_count": 51
        }
      ]
    },
    {
      "cell_type": "code",
      "source": [
        "pred_image(img2,model)"
      ],
      "metadata": {
        "colab": {
          "base_uri": "https://localhost:8080/"
        },
        "id": "7EceB-jfCRaD",
        "outputId": "ccce387c-8a9e-4010-9c82-24beee657e67"
      },
      "execution_count": 52,
      "outputs": [
        {
          "output_type": "stream",
          "name": "stdout",
          "text": [
            "1/1 [==============================] - 0s 100ms/step\n"
          ]
        },
        {
          "output_type": "execute_result",
          "data": {
            "text/plain": [
              "[('Apple___Apple_scab', 98.78),\n",
              " ('Apple___Black_rot', 1.03),\n",
              " ('Apple___healthy', 0.19),\n",
              " ('Apple___Cedar_apple_rust', 0.0),\n",
              " ('Corn_(maize)___Cercospora_leaf_spot Gray_leaf_spot', 0.0),\n",
              " ('Corn_(maize)___Common_rust_', 0.0),\n",
              " ('Corn_(maize)___Northern_Leaf_Blight', 0.0),\n",
              " ('Corn_(maize)___healthy', 0.0)]"
            ]
          },
          "metadata": {},
          "execution_count": 52
        }
      ]
    },
    {
      "cell_type": "code",
      "source": [
        "pred_image(img3,model)"
      ],
      "metadata": {
        "colab": {
          "base_uri": "https://localhost:8080/"
        },
        "id": "KgwzwEGeCRRU",
        "outputId": "526802f0-ea53-4af6-c393-b75adb0e9460"
      },
      "execution_count": 53,
      "outputs": [
        {
          "output_type": "stream",
          "name": "stdout",
          "text": [
            "1/1 [==============================] - 0s 57ms/step\n"
          ]
        },
        {
          "output_type": "execute_result",
          "data": {
            "text/plain": [
              "[('Apple___Black_rot', 99.35),\n",
              " ('Apple___healthy', 0.62),\n",
              " ('Apple___Apple_scab', 0.02),\n",
              " ('Apple___Cedar_apple_rust', 0.0),\n",
              " ('Corn_(maize)___Cercospora_leaf_spot Gray_leaf_spot', 0.0),\n",
              " ('Corn_(maize)___Common_rust_', 0.0),\n",
              " ('Corn_(maize)___Northern_Leaf_Blight', 0.0),\n",
              " ('Corn_(maize)___healthy', 0.0)]"
            ]
          },
          "metadata": {},
          "execution_count": 53
        }
      ]
    },
    {
      "cell_type": "code",
      "source": [
        "pred_image(img4,model)"
      ],
      "metadata": {
        "colab": {
          "base_uri": "https://localhost:8080/"
        },
        "id": "5SHRVzyhrAad",
        "outputId": "20f5fa53-0d3e-45c8-a63a-61d63d74bd2d"
      },
      "execution_count": 54,
      "outputs": [
        {
          "output_type": "stream",
          "name": "stdout",
          "text": [
            "1/1 [==============================] - 0s 65ms/step\n"
          ]
        },
        {
          "output_type": "execute_result",
          "data": {
            "text/plain": [
              "[('Apple___Cedar_apple_rust', 100.0),\n",
              " ('Apple___Apple_scab', 0.0),\n",
              " ('Apple___Black_rot', 0.0),\n",
              " ('Apple___healthy', 0.0),\n",
              " ('Corn_(maize)___Cercospora_leaf_spot Gray_leaf_spot', 0.0),\n",
              " ('Corn_(maize)___Common_rust_', 0.0),\n",
              " ('Corn_(maize)___Northern_Leaf_Blight', 0.0),\n",
              " ('Corn_(maize)___healthy', 0.0)]"
            ]
          },
          "metadata": {},
          "execution_count": 54
        }
      ]
    },
    {
      "cell_type": "code",
      "source": [
        "pred_image(img5,model)"
      ],
      "metadata": {
        "colab": {
          "base_uri": "https://localhost:8080/"
        },
        "id": "sgJdnyfOQy3F",
        "outputId": "a0b2d80d-9c63-4c48-bb56-d9466e2d653b"
      },
      "execution_count": 55,
      "outputs": [
        {
          "output_type": "stream",
          "name": "stdout",
          "text": [
            "1/1 [==============================] - 0s 63ms/step\n"
          ]
        },
        {
          "output_type": "execute_result",
          "data": {
            "text/plain": [
              "[('Corn_(maize)___healthy', 100.0),\n",
              " ('Apple___Apple_scab', 0.0),\n",
              " ('Apple___Black_rot', 0.0),\n",
              " ('Apple___Cedar_apple_rust', 0.0),\n",
              " ('Apple___healthy', 0.0),\n",
              " ('Corn_(maize)___Cercospora_leaf_spot Gray_leaf_spot', 0.0),\n",
              " ('Corn_(maize)___Common_rust_', 0.0),\n",
              " ('Corn_(maize)___Northern_Leaf_Blight', 0.0)]"
            ]
          },
          "metadata": {},
          "execution_count": 55
        }
      ]
    },
    {
      "cell_type": "code",
      "source": [
        "pred_image(img6,model)"
      ],
      "metadata": {
        "colab": {
          "base_uri": "https://localhost:8080/"
        },
        "id": "YboBKSRWQzmc",
        "outputId": "b9f2d1fd-59d8-4b38-baef-b3c9b472426f"
      },
      "execution_count": 56,
      "outputs": [
        {
          "output_type": "stream",
          "name": "stdout",
          "text": [
            "1/1 [==============================] - 0s 68ms/step\n"
          ]
        },
        {
          "output_type": "execute_result",
          "data": {
            "text/plain": [
              "[('Corn_(maize)___Cercospora_leaf_spot Gray_leaf_spot', 96.66),\n",
              " ('Corn_(maize)___Northern_Leaf_Blight', 3.34),\n",
              " ('Apple___Apple_scab', 0.0),\n",
              " ('Apple___Black_rot', 0.0),\n",
              " ('Apple___Cedar_apple_rust', 0.0),\n",
              " ('Apple___healthy', 0.0),\n",
              " ('Corn_(maize)___Common_rust_', 0.0),\n",
              " ('Corn_(maize)___healthy', 0.0)]"
            ]
          },
          "metadata": {},
          "execution_count": 56
        }
      ]
    },
    {
      "cell_type": "code",
      "source": [
        "pred_image(img7,model)"
      ],
      "metadata": {
        "colab": {
          "base_uri": "https://localhost:8080/"
        },
        "id": "6BRFeQzeQ0MN",
        "outputId": "3e418162-8672-4b3d-e996-a9027f353f55"
      },
      "execution_count": 57,
      "outputs": [
        {
          "output_type": "stream",
          "name": "stdout",
          "text": [
            "1/1 [==============================] - 0s 77ms/step\n"
          ]
        },
        {
          "output_type": "execute_result",
          "data": {
            "text/plain": [
              "[('Corn_(maize)___Common_rust_', 100.0),\n",
              " ('Apple___Apple_scab', 0.0),\n",
              " ('Apple___Black_rot', 0.0),\n",
              " ('Apple___Cedar_apple_rust', 0.0),\n",
              " ('Apple___healthy', 0.0),\n",
              " ('Corn_(maize)___Cercospora_leaf_spot Gray_leaf_spot', 0.0),\n",
              " ('Corn_(maize)___Northern_Leaf_Blight', 0.0),\n",
              " ('Corn_(maize)___healthy', 0.0)]"
            ]
          },
          "metadata": {},
          "execution_count": 57
        }
      ]
    },
    {
      "cell_type": "code",
      "source": [
        "pred_image(img8,model)"
      ],
      "metadata": {
        "colab": {
          "base_uri": "https://localhost:8080/"
        },
        "id": "nLBXvSg-Q0uL",
        "outputId": "9608ad5d-ce83-476f-877b-09a92e3c5213"
      },
      "execution_count": 58,
      "outputs": [
        {
          "output_type": "stream",
          "name": "stdout",
          "text": [
            "1/1 [==============================] - 0s 60ms/step\n"
          ]
        },
        {
          "output_type": "execute_result",
          "data": {
            "text/plain": [
              "[('Corn_(maize)___Northern_Leaf_Blight', 97.13),\n",
              " ('Corn_(maize)___Cercospora_leaf_spot Gray_leaf_spot', 2.85),\n",
              " ('Corn_(maize)___Common_rust_', 0.02),\n",
              " ('Apple___Apple_scab', 0.0),\n",
              " ('Apple___Black_rot', 0.0),\n",
              " ('Apple___Cedar_apple_rust', 0.0),\n",
              " ('Apple___healthy', 0.0),\n",
              " ('Corn_(maize)___healthy', 0.0)]"
            ]
          },
          "metadata": {},
          "execution_count": 58
        }
      ]
    },
    {
      "cell_type": "code",
      "source": [
        "import tensorflow as tf\n",
        "def get_img_array(img_path, size):\n",
        "    # `img` is a PIL image of size 299x299\n",
        "    img = tf.keras.preprocessing.image.load_img(img_path, target_size=size)\n",
        "    # `array` is a float32 Numpy array of shape (299, 299, 3)\n",
        "    array = tf.keras.preprocessing.image.img_to_array(img)\n",
        "    # We add a dimension to transform our array into a \"batch\"\n",
        "    # of size (1, 299, 299, 3)\n",
        "    array = np.expand_dims(array, axis=0)\n",
        "    return array\n",
        "\n",
        "\n",
        "def make_gradcam_heatmap(img_array, model, last_conv_layer_name, pred_index=None):\n",
        "    # First, we create a model that maps the input image to the activations\n",
        "    # of the last conv layer as well as the output predictions\n",
        "    grad_model = tf.keras.models.Model(\n",
        "        [model.inputs], [model.get_layer(last_conv_layer_name).output, model.output]\n",
        "    )\n",
        "\n",
        "    # Then, we compute the gradient of the top predicted class for our input image\n",
        "    # with respect to the activations of the last conv layer\n",
        "    with tf.GradientTape() as tape:\n",
        "        last_conv_layer_output, preds = grad_model(img_array)\n",
        "        if pred_index is None:\n",
        "            pred_index = tf.argmax(preds[0])\n",
        "        class_channel = preds[:, pred_index]\n",
        "\n",
        "    # This is the gradient of the output neuron (top predicted or chosen)\n",
        "    # with regard to the output feature map of the last conv layer\n",
        "    grads = tape.gradient(class_channel, last_conv_layer_output)\n",
        "\n",
        "    # This is a vector where each entry is the mean intensity of the gradient\n",
        "    # over a specific feature map channel\n",
        "    pooled_grads = tf.reduce_mean(grads, axis=(0, 1, 2))\n",
        "\n",
        "    # We multiply each channel in the feature map array\n",
        "    # by \"how important this channel is\" with regard to the top predicted class\n",
        "    # then sum all the channels to obtain the heatmap class activation\n",
        "    last_conv_layer_output = last_conv_layer_output[0]\n",
        "    heatmap = last_conv_layer_output @ pooled_grads[..., tf.newaxis]\n",
        "    heatmap = tf.squeeze(heatmap)\n",
        "\n",
        "    # For visualization purpose, we will also normalize the heatmap between 0 & 1\n",
        "    heatmap = tf.maximum(heatmap, 0) / tf.math.reduce_max(heatmap)\n",
        "    return heatmap.numpy()"
      ],
      "metadata": {
        "id": "ksjl8iYyaJVj"
      },
      "execution_count": 59,
      "outputs": []
    },
    {
      "cell_type": "code",
      "source": [
        "# Prepare image\n",
        "img_size=(256,256)\n",
        "\n",
        "img = Image.open(img4).resize((256,256)) #target_size must agree with what the trained model expects!!\n",
        "\n",
        "# Preprocessing the image\n",
        "img = image.img_to_array(img)\n",
        "img = np.expand_dims(img, axis=0)\n",
        "img = img.astype('float32')/255\n",
        "\n",
        "# Remove last layer's softmax\n",
        "model.layers[-1].activation = None\n",
        "\n",
        "# Print what the top predicted class is\n",
        "preds = model.predict(img)"
      ],
      "metadata": {
        "id": "i9GmcLFyaagK",
        "colab": {
          "base_uri": "https://localhost:8080/"
        },
        "outputId": "b09fcacf-40e6-4b49-fc8e-fae759e03f23"
      },
      "execution_count": 60,
      "outputs": [
        {
          "output_type": "stream",
          "name": "stdout",
          "text": [
            "1/1 [==============================] - 0s 89ms/step\n"
          ]
        }
      ]
    },
    {
      "cell_type": "code",
      "source": [
        "# Generate class activation heatmap\n",
        "last_conv_layer_name = \"max_pooling2d_3\"\n",
        "heatmap = make_gradcam_heatmap(img, model, last_conv_layer_name)\n",
        "\n",
        "# Display heatmap\n",
        "plt.matshow(heatmap)\n",
        "plt.show()"
      ],
      "metadata": {
        "colab": {
          "base_uri": "https://localhost:8080/",
          "height": 437
        },
        "id": "wEG-jjJlabJY",
        "outputId": "59997417-e896-4834-eaa3-46c8b9b8315c"
      },
      "execution_count": 61,
      "outputs": [
        {
          "output_type": "display_data",
          "data": {
            "text/plain": [
              "<Figure size 480x480 with 1 Axes>"
            ],
            "image/png": "[encoded data removed]"
          },
          "metadata": {}
        }
      ]
    },
    {
      "cell_type": "code",
      "source": [
        "def generate_heatmap(img_path,last_conv_layer_name):\n",
        "  # Prepare image\n",
        "  img_size=(256,256)\n",
        "\n",
        "  img = Image.open(img_path).resize((256,256)) #target_size must agree with what the trained model expects!!\n",
        "\n",
        "  # Preprocessing the image\n",
        "  img = image.img_to_array(img)\n",
        "  img = np.expand_dims(img, axis=0)\n",
        "  img = img.astype('float32')/255\n",
        "\n",
        "  # Remove last layer's softmax\n",
        "  model.layers[-1].activation = None\n",
        "  heatmap = make_gradcam_heatmap(img, model, last_conv_layer_name)\n",
        "\n",
        "  return heatmap\n"
      ],
      "metadata": {
        "id": "QzTKgZ8-cCkt"
      },
      "execution_count": 62,
      "outputs": []
    },
    {
      "cell_type": "code",
      "source": [
        "heatmap =generate_heatmap(img4,\"max_pooling2d_3\")"
      ],
      "metadata": {
        "id": "k8L6iFF-chPF"
      },
      "execution_count": 63,
      "outputs": []
    },
    {
      "cell_type": "code",
      "source": [
        "from IPython.display import Image as imgdisp, display\n",
        "def save_and_display_gradcam(img_path, heatmap, cam_path=\"/content/heatmap2.jpg\", alpha=0.4):\n",
        "    # Load the original image\n",
        "    img = tf.keras.preprocessing.image.load_img(img_path)\n",
        "    img = tf.keras.preprocessing.image.img_to_array(img)\n",
        "\n",
        "\n",
        "    # Rescale heatmap to a range 0-255\n",
        "    heatmap = np.uint8(255 * heatmap)\n",
        "\n",
        "    # Use jet colormap to colorize heatmap\n",
        "    jet = cm.get_cmap(\"jet\")\n",
        "\n",
        "    # Use RGB values of the colormap\n",
        "    jet_colors = jet(np.arange(256))[:, :3]\n",
        "    jet_heatmap = jet_colors[heatmap]\n",
        "\n",
        "    # Create an image with RGB colorized heatmap\n",
        "    jet_heatmap = tf.keras.preprocessing.image.array_to_img(jet_heatmap)\n",
        "    jet_heatmap = jet_heatmap.resize((img.shape[1], img.shape[0]))\n",
        "    jet_heatmap = tf.keras.preprocessing.image.img_to_array(jet_heatmap)\n",
        "\n",
        "    # Superimpose the heatmap on original image\n",
        "    superimposed_img = jet_heatmap * alpha + img\n",
        "    superimposed_img = tf.keras.preprocessing.image.array_to_img(superimposed_img)\n",
        "\n",
        "    # Save the superimposed image\n",
        "    superimposed_img.save(cam_path)\n",
        "\n",
        "    # Display Grad CAM\n",
        "    display(imgdisp(cam_path))\n",
        "\n"
      ],
      "metadata": {
        "id": "fSZoK7zTamOM"
      },
      "execution_count": 64,
      "outputs": []
    },
    {
      "cell_type": "code",
      "source": [
        "display(imgdisp(img1))"
      ],
      "metadata": {
        "colab": {
          "base_uri": "https://localhost:8080/",
          "height": 273
        },
        "id": "ERp80AQGBsGO",
        "outputId": "551dddd1-a9f1-4ae1-f203-2e9b421140d6"
      },
      "execution_count": 65,
      "outputs": [
        {
          "output_type": "display_data",
          "data": {
            "image/jpeg": "[encoded data removed]",
            "text/plain": [
              "<IPython.core.display.Image object>"
            ]
          },
          "metadata": {}
        }
      ]
    },
    {
      "cell_type": "code",
      "source": [
        "heatmap =generate_heatmap(img1,\"conv2d_3\")\n",
        "save_and_display_gradcam(img1, heatmap)"
      ],
      "metadata": {
        "colab": {
          "base_uri": "https://localhost:8080/",
          "height": 329
        },
        "id": "Mc70XuRLB324",
        "outputId": "04a48d3d-2727-4bdc-c887-d809aa609002"
      },
      "execution_count": 66,
      "outputs": [
        {
          "output_type": "stream",
          "name": "stderr",
          "text": [
            "<ipython-input-64-cfc54d2f12bb>:12: MatplotlibDeprecationWarning: The get_cmap function was deprecated in Matplotlib 3.7 and will be removed two minor releases later. Use ``matplotlib.colormaps[name]`` or ``matplotlib.colormaps.get_cmap(obj)`` instead.\n",
            "  jet = cm.get_cmap(\"jet\")\n"
          ]
        },
        {
          "output_type": "display_data",
          "data": {
            "image/jpeg": "[encoded data removed]",
            "text/plain": [
              "<IPython.core.display.Image object>"
            ]
          },
          "metadata": {}
        }
      ]
    },
    {
      "cell_type": "markdown",
      "source": [
        "# ***Visulization Ploting***"
      ],
      "metadata": {
        "id": "xYP-lOfGqDhi"
      }
    },
    {
      "cell_type": "code",
      "source": [
        "import tensorflow as tf\n",
        "import numpy as np\n",
        "import matplotlib.pyplot as plt\n",
        "from tensorflow.keras.preprocessing import image\n",
        "from tensorflow.keras.applications.vgg16 import preprocess_input\n",
        "from matplotlib import cm\n",
        "from PIL import Image"
      ],
      "metadata": {
        "id": "NqwOl_XjB7DP"
      },
      "execution_count": 67,
      "outputs": []
    },
    {
      "cell_type": "code",
      "source": [
        "def plot_images_with_heatmaps_and_save(image_paths, model, last_conv_layer_name, save_path):\n",
        "    plt.figure(figsize=(10, 10))\n",
        "\n",
        "    for i, img_path in enumerate(image_paths):\n",
        "        original_img = Image.open(img_path).resize((256, 256))\n",
        "        heatmap = generate_heatmap(img_path, model, last_conv_layer_name)\n",
        "        heatmap_img = save_and_display_gradcam(img_path, heatmap, cam_path=f\"heatmap_{i}.jpg\")\n",
        "\n",
        "        fig, ax = plt.subplots(1, 2, figsize=(10, 5))\n",
        "\n",
        "        ax[0].imshow(original_img)\n",
        "        ax[0].set_title(f\"Original Image {i+1}\")\n",
        "        ax[0].set_xlim([0, 256])\n",
        "        ax[0].set_ylim([256, 0])\n",
        "        ax[0].set_xlabel('Width')\n",
        "        ax[0].set_ylabel('Height')\n",
        "\n",
        "        ax[1].imshow(heatmap_img)\n",
        "        ax[1].set_title(f\"Heatmap Image {i+1}\")\n",
        "        ax[1].set_xlim([0, 256])\n",
        "        ax[1].set_ylim([256, 0])\n",
        "        ax[1].set_xlabel('Width')\n",
        "        ax[1].set_ylabel('Height')\n",
        "\n",
        "        plt.tight_layout()\n",
        "        plt.savefig(f\"{save_path}/heatmap_{i}.png\")  # Save the figure\n",
        "        plt.close()  # Close the figure to prevent displaying it\n",
        "\n",
        "    print(f\"Images saved to {save_path}\")\n",
        "\n",
        "# Example usage with 3 images\n",
        "image_paths = ['/content/drive/MyDrive/Dataset_V_6/test/Apple___healthy/04d4f065-5cb8-4122-b479-d1362d007276___RS_HL 7719.JPG', '/content/drive/MyDrive/Dataset_V_6/test/Apple___Apple_scab/augmented_663ad178-6346-4b89-8074-6655f1be1578___FREC_Scab 3500_0_7445.jpg', '/content/drive/MyDrive/Dataset_V_6/test/Apple___Black_rot/e9df76bc-d175-42c9-990e-6e6c5f5ac5ce___JR_FrgE.S 8663.JPG', '/content/drive/MyDrive/Dataset_V_6/test/Apple___Cedar_apple_rust/112cfc79-00ab-4920-a235-977c134bdb5d___FREC_C.Rust 4365.JPG', '/content/drive/MyDrive/Dataset_V_6/test/Corn_(maize)___healthy/0305800e-de91-4742-b923-f9a1c0799392___R.S_HL 8116 copy.jpg', '/content/drive/MyDrive/Dataset_V_6/test/Corn_(maize)___Cercospora_leaf_spot Gray_leaf_spot/c826221e-a999-4509-a7ed-d62726ca6078___RS_GLSp 4332.JPG', '/content/drive/MyDrive/Dataset_V_6/test/Corn_(maize)___Common_rust_/RS_Rust 1577.JPG', '/content/drive/MyDrive/Dataset_V_6/test/Corn_(maize)___Northern_Leaf_Blight/143ff440-2efd-4bc9-8312-265363c0872f___RS_NLB 3625.JPG' ]\n",
        "last_conv_layer_name = \"max_pooling2d_3\"  # replace with your model's last conv layer name\n",
        "save_path = \"/content/drive/MyDrive/saved models\"  # specify the path where you want to save the images\n",
        "\n",
        "plot_images_with_heatmaps_and_save(image_paths, model, last_conv_layer_name, save_path)\n"
      ],
      "metadata": {
        "colab": {
          "base_uri": "https://localhost:8080/",
          "height": 110
        },
        "id": "8lAb9gNMEEri",
        "outputId": "782f1433-8f79-4f60-b447-e82c90b151bb"
      },
      "execution_count": 71,
      "outputs": [
        {
          "output_type": "stream",
          "name": "stderr",
          "text": [
            "<ipython-input-70-f91548e0ea58>:38: MatplotlibDeprecationWarning: The get_cmap function was deprecated in Matplotlib 3.7 and will be removed two minor releases later. Use ``matplotlib.colormaps[name]`` or ``matplotlib.colormaps.get_cmap(obj)`` instead.\n",
            "  jet = cm.get_cmap(\"jet\")\n"
          ]
        },
        {
          "output_type": "stream",
          "name": "stdout",
          "text": [
            "Images saved to /content/drive/MyDrive/saved models\n"
          ]
        },
        {
          "output_type": "display_data",
          "data": {
            "text/plain": [
              "<Figure size 1000x1000 with 0 Axes>"
            ]
          },
          "metadata": {}
        }
      ]
    }
  ]
}