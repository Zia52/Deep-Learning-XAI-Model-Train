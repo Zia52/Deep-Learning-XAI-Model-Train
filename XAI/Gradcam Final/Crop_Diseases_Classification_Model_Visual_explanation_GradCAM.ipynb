{
  "nbformat": 4,
  "nbformat_minor": 0,
  "metadata": {
    "colab": {
      "provenance": [],
      "machine_shape": "hm"
    },
    "kernelspec": {
      "name": "python3",
      "display_name": "Python 3"
    },
    "language_info": {
      "name": "python"
    },
    "accelerator": "GPU",
    "gpuClass": "standard"
  },
  "cells": [
    {
      "cell_type": "markdown",
      "source": [
        "## About Grad-CAM Heatmap\n",
        "\n",
        "Grad-CAM is a CNN model explanation technique which helps in visualizing the regions of the image where the CNN model is looking at for classification.\n",
        "\n",
        "In this technique, gradients flows through the last convolution layer to produce a **coarse localization map** highlighting the important regions in the image for predicting the concept.\n",
        "\n",
        "It is based on the research paper **\"[Grad-CAM: Visual Explanations from Deep Networks via Gradient-based Localization](https://arxiv.org/abs/1610.02391)\"**"
      ],
      "metadata": {
        "id": "7fmkAUOjXdzs"
      }
    },
    {
      "cell_type": "code",
      "execution_count": 1,
      "metadata": {
        "id": "r_Wo4dhwXLtp"
      },
      "outputs": [],
      "source": [
        "import pandas as pd\n",
        "#math operations\n",
        "import numpy as np\n",
        "#machine learning\n",
        "import cv2\n",
        "import os\n",
        "from tqdm import tqdm\n",
        "import random\n",
        "#for opening and loading image\n",
        "from PIL import Image\n",
        "#for preprocessing\n",
        "from tensorflow.keras.preprocessing import image\n",
        "import matplotlib.pyplot as plt\n",
        "#Doing One hot encoding as classifier has multiple classes\n",
        "from random import shuffle\n",
        "#MobileNetV2 model\n",
        "from tensorflow.keras.applications.mobilenet_v2 import MobileNetV2\n",
        "from tensorflow.keras import Model, layers\n",
        "from numpy import loadtxt\n",
        "from tensorflow.keras.applications.imagenet_utils import preprocess_input, decode_predictions\n",
        "from tensorflow.keras.models import load_model\n",
        "\n",
        "\n",
        "\n",
        "import matplotlib.pyplot as plt\n",
        "import matplotlib.cm as cm\n",
        "import tensorflow as tf"
      ]
    },
    {
      "cell_type": "code",
      "source": [
        "from google.colab import drive\n",
        "drive.mount('/content/drive')"
      ],
      "metadata": {
        "colab": {
          "base_uri": "https://localhost:8080/"
        },
        "id": "245j7mQHXaxO",
        "outputId": "770f4f21-ab61-4654-82bb-5c3f098dba2b"
      },
      "execution_count": null,
      "outputs": [
        {
          "output_type": "stream",
          "name": "stdout",
          "text": [
            "Drive already mounted at /content/drive; to attempt to forcibly remount, call drive.mount(\"/content/drive\", force_remount=True).\n"
          ]
        }
      ]
    },
    {
      "cell_type": "markdown",
      "source": [
        "## Loading Model"
      ],
      "metadata": {
        "id": "aF-WCcyIZgvW"
      }
    },
    {
      "cell_type": "code",
      "source": [
        "model = load_model('/content/drive/MyDrive/Final Model/CropDiseaseDetection_full_datasset.h5')"
      ],
      "metadata": {
        "id": "jCsG4Z4XZQAg"
      },
      "execution_count": null,
      "outputs": []
    },
    {
      "cell_type": "code",
      "source": [
        "img1 = \"/content/drive/MyDrive/Dataset_V_6/test/Apple___Apple_scab/03354abb-aa1c-4f9d-a1ef-9f40505cd539___FREC_Scab 3355 - Copy.JPG\"\n",
        "img2 = \"/content/drive/MyDrive/Dataset_V_6/test/Apple___Black_rot/0199a733-6d3f-4e66-a903-2d1d34457871___JR_FrgE.S 3079.JPG\"\n",
        "img3 = \"/content/drive/MyDrive/Dataset_V_6/test/Apple___Cedar_apple_rust/04da297e-5238-41b1-a8a0-0c87c6c2f21f___FREC_C.Rust 4394.JPG\"\n",
        "img4 = \"/content/drive/MyDrive/Dataset_V_6/test/Apple___healthy/04d4f065-5cb8-4122-b479-d1362d007276___RS_HL 7719.JPG\"\n",
        "img5 = \"/content/drive/MyDrive/Dataset_V_6/test/Corn_(maize)___Cercospora_leaf_spot Gray_leaf_spot/00120a18-ff90-46e4-92fb-2b7a10345bd3___RS_GLSp 9357.JPG\"\n",
        "img6 = \"/content/drive/MyDrive/Dataset_V_6/test/Corn_(maize)___Common_rust_/RS_Rust 1568.JPG\"\n",
        "img7 = \"/content/drive/MyDrive/Dataset_V_6/test/Corn_(maize)___Northern_Leaf_Blight/02eee796-1a1e-4d63-8247-a6aac6bfb272___RS_NLB 3546.JPG\"\n",
        "img8 = \"/content/drive/MyDrive/Dataset_V_6/test/Corn_(maize)___healthy/02e76b75-f201-44ee-a694-35edf97cc82b___R.S_HL 8015 copy.jpg\""
      ],
      "metadata": {
        "id": "NDgHCNphZitZ"
      },
      "execution_count": null,
      "outputs": []
    },
    {
      "cell_type": "code",
      "source": [
        "img_path='/content/drive/MyDrive/Dataset_V_6/test/Apple___Apple_scab/03354abb-aa1c-4f9d-a1ef-9f40505cd539___FREC_Scab 3355 - Copy.JPG'\n",
        "img = Image.open(img_path).resize((224,224)) #target_size must agree with what the trained model expects!!\n",
        "\n",
        "# Preprocessing the image\n",
        "img = image.img_to_array(img)\n",
        "img = np.expand_dims(img, axis=0)\n",
        "img = img.astype('float32')/255"
      ],
      "metadata": {
        "id": "qnEt5gXmZ07p"
      },
      "execution_count": null,
      "outputs": []
    },
    {
      "cell_type": "code",
      "source": [
        "class_dict ={0:\"Apple___Apple_scab\",\n",
        "             1:\"Apple___Black_rot\",\n",
        "             2:\"Apple___Cedar_apple_rust\",\n",
        "             3:\"Apple___healthy\",\n",
        "             4:\"Corn_(maize)___Cercospora_leaf_spot Gray_leaf_spot\",\n",
        "             5:\"Corn_(maize)___Common_rust_\",\n",
        "             6:\"Corn_(maize)___Northern_Leaf_Blight\",\n",
        "             7:\"Corn_(maize)___healthy\",\n",
        "             8:\"Grape___Black_rot\",\n",
        "             9:\"Grape___Esca_(Black_Measles)\",\n",
        "             10:\"Grape___Leaf_blight_(Isariopsis_Leaf_Spot)\",\n",
        "             11:\"Grape___healthy\",\n",
        "             12:\"Potato___Early_blight\",\n",
        "             13:\"Potato___Late_blight\",\n",
        "             14:\"Potato___healthy\",\n",
        "             15:\"Tomato___Bacterial_spot\",\n",
        "             16:\"Tomato___Early_blight\",\n",
        "             17:\"Tomato___Late_blight\",\n",
        "             18:\"Tomato___Leaf_Mold\",\n",
        "             19:\"Tomato___Septoria_leaf_spot\",\n",
        "             20:\"Tomato___Spider_mites Two-spotted_spider_mite\",\n",
        "             21:\"Tomato___Target_Spot\",\n",
        "             22:\"Tomato___Tomato_Yellow_Leaf_Curl_Virus\",\n",
        "             23:\"Tomato___Tomato_mosaic_virus\",\n",
        "             24:\"Tomato___healthy\"}"
      ],
      "metadata": {
        "id": "4JVSbLBDZ74c"
      },
      "execution_count": null,
      "outputs": []
    },
    {
      "cell_type": "code",
      "source": [
        "def pred_image(img_path,model):\n",
        "  img = Image.open(img_path).resize((256,256)) #target_size must agree with what the trained model expects!!\n",
        "  # Preprocessing the image\n",
        "  img = image.img_to_array(img)\n",
        "  img = np.expand_dims(img, axis=0)\n",
        "  img = img.astype('float32')/255\n",
        "\n",
        "  preds = model.predict(img)[0]\n",
        "  prediction = sorted(\n",
        "      [(class_dict[i], round(j*100, 2)) for i, j in enumerate(preds)],\n",
        "      reverse=True,\n",
        "      key=lambda x: x[1]\n",
        "  )\n",
        "\n",
        "  return prediction"
      ],
      "metadata": {
        "id": "Cz7kYoBJaFLM"
      },
      "execution_count": null,
      "outputs": []
    },
    {
      "cell_type": "code",
      "source": [
        "pred_image(img1,model)"
      ],
      "metadata": {
        "colab": {
          "base_uri": "https://localhost:8080/"
        },
        "id": "BpUieoj4aGNE",
        "outputId": "d970cd15-b605-4575-8d85-77c607c6f662"
      },
      "execution_count": null,
      "outputs": [
        {
          "output_type": "stream",
          "name": "stdout",
          "text": [
            "1/1 [==============================] - 0s 87ms/step\n"
          ]
        },
        {
          "output_type": "execute_result",
          "data": {
            "text/plain": [
              "[('Apple___Apple_scab', 91.21),\n",
              " ('Corn_(maize)___Northern_Leaf_Blight', 4.9),\n",
              " ('Apple___Cedar_apple_rust', 1.59),\n",
              " ('Potato___Late_blight', 1.03),\n",
              " ('Tomato___Septoria_leaf_spot', 0.47),\n",
              " ('Corn_(maize)___Cercospora_leaf_spot Gray_leaf_spot', 0.43),\n",
              " ('Grape___Black_rot', 0.18),\n",
              " ('Tomato___Bacterial_spot', 0.08),\n",
              " ('Grape___Leaf_blight_(Isariopsis_Leaf_Spot)', 0.03),\n",
              " ('Grape___healthy', 0.03),\n",
              " ('Potato___Early_blight', 0.02),\n",
              " ('Tomato___Late_blight', 0.02),\n",
              " ('Apple___Black_rot', 0.0),\n",
              " ('Apple___healthy', 0.0),\n",
              " ('Corn_(maize)___Common_rust_', 0.0),\n",
              " ('Corn_(maize)___healthy', 0.0),\n",
              " ('Grape___Esca_(Black_Measles)', 0.0),\n",
              " ('Potato___healthy', 0.0),\n",
              " ('Tomato___Early_blight', 0.0),\n",
              " ('Tomato___Leaf_Mold', 0.0),\n",
              " ('Tomato___Spider_mites Two-spotted_spider_mite', 0.0),\n",
              " ('Tomato___Target_Spot', 0.0),\n",
              " ('Tomato___Tomato_Yellow_Leaf_Curl_Virus', 0.0),\n",
              " ('Tomato___Tomato_mosaic_virus', 0.0),\n",
              " ('Tomato___healthy', 0.0)]"
            ]
          },
          "metadata": {},
          "execution_count": 32
        }
      ]
    },
    {
      "cell_type": "code",
      "source": [
        "pred_image(img2,model)"
      ],
      "metadata": {
        "colab": {
          "base_uri": "https://localhost:8080/"
        },
        "id": "7EceB-jfCRaD",
        "outputId": "b3264223-9e8f-4046-b8ad-c4860a690351"
      },
      "execution_count": null,
      "outputs": [
        {
          "output_type": "stream",
          "name": "stdout",
          "text": [
            "1/1 [==============================] - 0s 18ms/step\n"
          ]
        },
        {
          "output_type": "execute_result",
          "data": {
            "text/plain": [
              "[('Apple___Black_rot', 100.0),\n",
              " ('Apple___Apple_scab', 0.0),\n",
              " ('Apple___Cedar_apple_rust', 0.0),\n",
              " ('Apple___healthy', 0.0),\n",
              " ('Corn_(maize)___Cercospora_leaf_spot Gray_leaf_spot', 0.0),\n",
              " ('Corn_(maize)___Common_rust_', 0.0),\n",
              " ('Corn_(maize)___Northern_Leaf_Blight', 0.0),\n",
              " ('Corn_(maize)___healthy', 0.0),\n",
              " ('Grape___Black_rot', 0.0),\n",
              " ('Grape___Esca_(Black_Measles)', 0.0),\n",
              " ('Grape___Leaf_blight_(Isariopsis_Leaf_Spot)', 0.0),\n",
              " ('Grape___healthy', 0.0),\n",
              " ('Potato___Early_blight', 0.0),\n",
              " ('Potato___Late_blight', 0.0),\n",
              " ('Potato___healthy', 0.0),\n",
              " ('Tomato___Bacterial_spot', 0.0),\n",
              " ('Tomato___Early_blight', 0.0),\n",
              " ('Tomato___Late_blight', 0.0),\n",
              " ('Tomato___Leaf_Mold', 0.0),\n",
              " ('Tomato___Septoria_leaf_spot', 0.0),\n",
              " ('Tomato___Spider_mites Two-spotted_spider_mite', 0.0),\n",
              " ('Tomato___Target_Spot', 0.0),\n",
              " ('Tomato___Tomato_Yellow_Leaf_Curl_Virus', 0.0),\n",
              " ('Tomato___Tomato_mosaic_virus', 0.0),\n",
              " ('Tomato___healthy', 0.0)]"
            ]
          },
          "metadata": {},
          "execution_count": 33
        }
      ]
    },
    {
      "cell_type": "code",
      "source": [
        "pred_image(img3,model)"
      ],
      "metadata": {
        "colab": {
          "base_uri": "https://localhost:8080/"
        },
        "id": "KgwzwEGeCRRU",
        "outputId": "7d4ef9e8-80c8-4f61-f8ac-e0dbbf50b83a"
      },
      "execution_count": null,
      "outputs": [
        {
          "output_type": "stream",
          "name": "stdout",
          "text": [
            "1/1 [==============================] - 0s 24ms/step\n"
          ]
        },
        {
          "output_type": "execute_result",
          "data": {
            "text/plain": [
              "[('Apple___Cedar_apple_rust', 96.83),\n",
              " ('Tomato___Bacterial_spot', 2.36),\n",
              " ('Tomato___Septoria_leaf_spot', 0.23),\n",
              " ('Apple___Apple_scab', 0.19),\n",
              " ('Corn_(maize)___Northern_Leaf_Blight', 0.16),\n",
              " ('Grape___Black_rot', 0.07),\n",
              " ('Corn_(maize)___Cercospora_leaf_spot Gray_leaf_spot', 0.06),\n",
              " ('Tomato___Late_blight', 0.03),\n",
              " ('Grape___Leaf_blight_(Isariopsis_Leaf_Spot)', 0.02),\n",
              " ('Tomato___Early_blight', 0.02),\n",
              " ('Tomato___Target_Spot', 0.02),\n",
              " ('Potato___Late_blight', 0.01),\n",
              " ('Apple___Black_rot', 0.0),\n",
              " ('Apple___healthy', 0.0),\n",
              " ('Corn_(maize)___Common_rust_', 0.0),\n",
              " ('Corn_(maize)___healthy', 0.0),\n",
              " ('Grape___Esca_(Black_Measles)', 0.0),\n",
              " ('Grape___healthy', 0.0),\n",
              " ('Potato___Early_blight', 0.0),\n",
              " ('Potato___healthy', 0.0),\n",
              " ('Tomato___Leaf_Mold', 0.0),\n",
              " ('Tomato___Spider_mites Two-spotted_spider_mite', 0.0),\n",
              " ('Tomato___Tomato_Yellow_Leaf_Curl_Virus', 0.0),\n",
              " ('Tomato___Tomato_mosaic_virus', 0.0),\n",
              " ('Tomato___healthy', 0.0)]"
            ]
          },
          "metadata": {},
          "execution_count": 34
        }
      ]
    },
    {
      "cell_type": "code",
      "source": [
        "import tensorflow as tf\n",
        "def get_img_array(img_path, size):\n",
        "    # `img` is a PIL image of size 299x299\n",
        "    img = tf.keras.preprocessing.image.load_img(img_path, target_size=size)\n",
        "    # `array` is a float32 Numpy array of shape (299, 299, 3)\n",
        "    array = tf.keras.preprocessing.image.img_to_array(img)\n",
        "    # We add a dimension to transform our array into a \"batch\"\n",
        "    # of size (1, 299, 299, 3)\n",
        "    array = np.expand_dims(array, axis=0)\n",
        "    return array\n",
        "\n",
        "\n",
        "def make_gradcam_heatmap(img_array, model, last_conv_layer_name, pred_index=None):\n",
        "    # First, we create a model that maps the input image to the activations\n",
        "    # of the last conv layer as well as the output predictions\n",
        "    grad_model = tf.keras.models.Model(\n",
        "        [model.inputs], [model.get_layer(last_conv_layer_name).output, model.output]\n",
        "    )\n",
        "\n",
        "    # Then, we compute the gradient of the top predicted class for our input image\n",
        "    # with respect to the activations of the last conv layer\n",
        "    with tf.GradientTape() as tape:\n",
        "        last_conv_layer_output, preds = grad_model(img_array)\n",
        "        if pred_index is None:\n",
        "            pred_index = tf.argmax(preds[0])\n",
        "        class_channel = preds[:, pred_index]\n",
        "\n",
        "    # This is the gradient of the output neuron (top predicted or chosen)\n",
        "    # with regard to the output feature map of the last conv layer\n",
        "    grads = tape.gradient(class_channel, last_conv_layer_output)\n",
        "\n",
        "    # This is a vector where each entry is the mean intensity of the gradient\n",
        "    # over a specific feature map channel\n",
        "    pooled_grads = tf.reduce_mean(grads, axis=(0, 1, 2))\n",
        "\n",
        "    # We multiply each channel in the feature map array\n",
        "    # by \"how important this channel is\" with regard to the top predicted class\n",
        "    # then sum all the channels to obtain the heatmap class activation\n",
        "    last_conv_layer_output = last_conv_layer_output[0]\n",
        "    heatmap = last_conv_layer_output @ pooled_grads[..., tf.newaxis]\n",
        "    heatmap = tf.squeeze(heatmap)\n",
        "\n",
        "    # For visualization purpose, we will also normalize the heatmap between 0 & 1\n",
        "    heatmap = tf.maximum(heatmap, 0) / tf.math.reduce_max(heatmap)\n",
        "    return heatmap.numpy()"
      ],
      "metadata": {
        "id": "ksjl8iYyaJVj"
      },
      "execution_count": null,
      "outputs": []
    },
    {
      "cell_type": "code",
      "source": [
        "# Prepare image\n",
        "img_size=(256,256)\n",
        "\n",
        "img = Image.open(img1).resize((256,256)) #target_size must agree with what the trained model expects!!\n",
        "\n",
        "# Preprocessing the image\n",
        "img = image.img_to_array(img)\n",
        "img = np.expand_dims(img, axis=0)\n",
        "img = img.astype('float32')/255\n",
        "\n",
        "# Remove last layer's softmax\n",
        "model.layers[-1].activation = None\n",
        "\n",
        "# Print what the top predicted class is\n",
        "preds = model.predict(img)"
      ],
      "metadata": {
        "id": "i9GmcLFyaagK",
        "outputId": "f2576243-a130-49de-de3c-84dc1addcb1c",
        "colab": {
          "base_uri": "https://localhost:8080/"
        }
      },
      "execution_count": null,
      "outputs": [
        {
          "output_type": "stream",
          "name": "stdout",
          "text": [
            "1/1 [==============================] - 0s 18ms/step\n"
          ]
        }
      ]
    },
    {
      "cell_type": "code",
      "source": [
        "# Generate class activation heatmap\n",
        "last_conv_layer_name = \"conv2d_7\"\n",
        "heatmap = make_gradcam_heatmap(img, model, last_conv_layer_name)\n",
        "\n",
        "# Display heatmap\n",
        "plt.matshow(heatmap)\n",
        "plt.show()"
      ],
      "metadata": {
        "colab": {
          "base_uri": "https://localhost:8080/",
          "height": 437
        },
        "id": "wEG-jjJlabJY",
        "outputId": "6cb3adfa-da27-4af7-8545-f0612b2ce23d"
      },
      "execution_count": null,
      "outputs": [
        {
          "output_type": "display_data",
          "data": {
            "text/plain": [
              "<Figure size 480x480 with 1 Axes>"
            ],
            "image/png": "[encoded data removed]"
          },
          "metadata": {}
        }
      ]
    },
    {
      "cell_type": "code",
      "source": [
        "def generate_heatmap(img_path,last_conv_layer_name):\n",
        "  # Prepare image\n",
        "  img_size=(224,224)\n",
        "\n",
        "  img = Image.open(img_path).resize((256,256)) #target_size must agree with what the trained model expects!!\n",
        "\n",
        "  # Preprocessing the image\n",
        "  img = image.img_to_array(img)\n",
        "  img = np.expand_dims(img, axis=0)\n",
        "  img = img.astype('float32')/255\n",
        "\n",
        "  # Remove last layer's softmax\n",
        "  model.layers[-1].activation = None\n",
        "  heatmap = make_gradcam_heatmap(img, model, last_conv_layer_name)\n",
        "\n",
        "  return heatmap\n"
      ],
      "metadata": {
        "id": "QzTKgZ8-cCkt"
      },
      "execution_count": null,
      "outputs": []
    },
    {
      "cell_type": "code",
      "source": [
        "heatmap =generate_heatmap(img2,\"conv2d_7\")"
      ],
      "metadata": {
        "id": "k8L6iFF-chPF"
      },
      "execution_count": null,
      "outputs": []
    },
    {
      "cell_type": "code",
      "source": [
        "from IPython.display import Image as imgdisp, display\n",
        "def save_and_display_gradcam(img_path, heatmap, cam_path=\"/content/drive/MyDrive/Dataset_V_6/test/Apple___Apple_scab/03354abb-aa1c-4f9d-a1ef-9f40505cd539___FREC_Scab 3355 - Copy.JPG\", alpha=0.4):\n",
        "    # Load the original image\n",
        "    img = tf.keras.preprocessing.image.load_img(img_path)\n",
        "    img = tf.keras.preprocessing.image.img_to_array(img)\n",
        "\n",
        "\n",
        "    # Rescale heatmap to a range 0-255\n",
        "    heatmap = np.uint8(255 * heatmap)\n",
        "\n",
        "    # Use jet colormap to colorize heatmap\n",
        "    jet = cm.get_cmap(\"jet\")\n",
        "\n",
        "    # Use RGB values of the colormap\n",
        "    jet_colors = jet(np.arange(256))[:, :3]\n",
        "    jet_heatmap = jet_colors[heatmap]\n",
        "\n",
        "    # Create an image with RGB colorized heatmap\n",
        "    jet_heatmap = tf.keras.preprocessing.image.array_to_img(jet_heatmap)\n",
        "    jet_heatmap = jet_heatmap.resize((img.shape[1], img.shape[0]))\n",
        "    jet_heatmap = tf.keras.preprocessing.image.img_to_array(jet_heatmap)\n",
        "\n",
        "    # Superimpose the heatmap on original image\n",
        "    superimposed_img = jet_heatmap * alpha + img\n",
        "    superimposed_img = tf.keras.preprocessing.image.array_to_img(superimposed_img)\n",
        "\n",
        "    # Save the superimposed image\n",
        "    superimposed_img.save(cam_path)\n",
        "\n",
        "    # Display Grad CAM\n",
        "    display(imgdisp(cam_path))\n",
        "\n"
      ],
      "metadata": {
        "id": "fSZoK7zTamOM"
      },
      "execution_count": null,
      "outputs": []
    },
    {
      "cell_type": "code",
      "source": [
        "display(imgdisp(img1))"
      ],
      "metadata": {
        "colab": {
          "base_uri": "https://localhost:8080/",
          "height": 273
        },
        "id": "2vyehvhtL0sJ",
        "outputId": "03185a99-949a-4e34-f13f-d78aa6629d7e"
      },
      "execution_count": null,
      "outputs": [
        {
          "output_type": "display_data",
          "data": {
            "image/jpeg": "[encoded data removed]",
            "text/plain": [
              "<IPython.core.display.Image object>"
            ]
          },
          "metadata": {}
        }
      ]
    },
    {
      "cell_type": "code",
      "source": [
        "from IPython.display import Image as imgdisp, display\n",
        "def save_and_display_gradcam(img_path, heatmap, cam_path=\"gradcam.jpg\", alpha=0.4): # Changed default cam_path\n",
        "    # Load the original image\n",
        "    img = tf.keras.preprocessing.image.load_img(img_path)\n",
        "    img = tf.keras.preprocessing.image.img_to_array(img)\n",
        "\n",
        "\n",
        "    # Rescale heatmap to a range 0-255\n",
        "    heatmap = np.uint8(255 * heatmap)\n",
        "\n",
        "    # Use jet colormap to colorize heatmap\n",
        "    jet = cm.get_cmap(\"jet\")\n",
        "\n",
        "    # Use RGB values of the colormap\n",
        "    jet_colors = jet(np.arange(256))[:, :3]\n",
        "    jet_heatmap = jet_colors[heatmap]\n",
        "\n",
        "    # Create an image with RGB colorized heatmap\n",
        "    jet_heatmap = tf.keras.preprocessing.image.array_to_img(jet_heatmap)\n",
        "    jet_heatmap = jet_heatmap.resize((img.shape[1], img.shape[0]))\n",
        "    jet_heatmap = tf.keras.preprocessing.image.img_to_array(jet_heatmap)\n",
        "\n",
        "    # Superimpose the heatmap on original image\n",
        "    superimposed_img = jet_heatmap * alpha + img\n",
        "    superimposed_img = tf.keras.preprocessing.image.array_to_img(superimposed_img)\n",
        "\n",
        "    # Save the superimposed image\n",
        "    superimposed_img.save(cam_path) # Now saves to the local directory\n",
        "\n",
        "    # Display Grad CAM\n",
        "    display(imgdisp(cam_path))"
      ],
      "metadata": {
        "id": "NLFS16SCzqmx"
      },
      "execution_count": null,
      "outputs": []
    },
    {
      "cell_type": "code",
      "source": [
        "heatmap =generate_heatmap(img1,\"conv2d_7\")\n",
        "save_and_display_gradcam(img1, heatmap)"
      ],
      "metadata": {
        "colab": {
          "base_uri": "https://localhost:8080/",
          "height": 329
        },
        "id": "djki3VPUbpRc",
        "outputId": "378a3190-86df-4fb3-afd6-ff8e05e2b904"
      },
      "execution_count": null,
      "outputs": [
        {
          "output_type": "stream",
          "name": "stderr",
          "text": [
            "<ipython-input-43-7f019a58b5e4>:12: MatplotlibDeprecationWarning: The get_cmap function was deprecated in Matplotlib 3.7 and will be removed two minor releases later. Use ``matplotlib.colormaps[name]`` or ``matplotlib.colormaps.get_cmap(obj)`` instead.\n",
            "  jet = cm.get_cmap(\"jet\")\n"
          ]
        },
        {
          "output_type": "display_data",
          "data": {
            "image/jpeg": "[encoded data removed]",
            "text/plain": [
              "<IPython.core.display.Image object>"
            ]
          },
          "metadata": {}
        }
      ]
    },
    {
      "cell_type": "code",
      "source": [
        "heatmap =generate_heatmap(img2,\"conv2d_7\")\n",
        "save_and_display_gradcam(img2, heatmap)"
      ],
      "metadata": {
        "colab": {
          "base_uri": "https://localhost:8080/",
          "height": 329
        },
        "id": "sFpjF6l8eN9u",
        "outputId": "83a98c6e-5e69-48cc-93e6-e72e5346c50b"
      },
      "execution_count": null,
      "outputs": [
        {
          "output_type": "stream",
          "name": "stderr",
          "text": [
            "<ipython-input-43-7f019a58b5e4>:12: MatplotlibDeprecationWarning: The get_cmap function was deprecated in Matplotlib 3.7 and will be removed two minor releases later. Use ``matplotlib.colormaps[name]`` or ``matplotlib.colormaps.get_cmap(obj)`` instead.\n",
            "  jet = cm.get_cmap(\"jet\")\n"
          ]
        },
        {
          "output_type": "display_data",
          "data": {
            "image/jpeg": "[encoded data removed]",
            "text/plain": [
              "<IPython.core.display.Image object>"
            ]
          },
          "metadata": {}
        }
      ]
    },
    {
      "cell_type": "code",
      "source": [
        "heatmap =generate_heatmap(img3,\"conv2d_7\")\n",
        "save_and_display_gradcam(img3, heatmap)"
      ],
      "metadata": {
        "colab": {
          "base_uri": "https://localhost:8080/",
          "height": 329
        },
        "id": "_awJmbe9epbl",
        "outputId": "96fbefdb-154f-4124-b1b3-0381da47a77b"
      },
      "execution_count": null,
      "outputs": [
        {
          "output_type": "stream",
          "name": "stderr",
          "text": [
            "<ipython-input-43-7f019a58b5e4>:12: MatplotlibDeprecationWarning: The get_cmap function was deprecated in Matplotlib 3.7 and will be removed two minor releases later. Use ``matplotlib.colormaps[name]`` or ``matplotlib.colormaps.get_cmap(obj)`` instead.\n",
            "  jet = cm.get_cmap(\"jet\")\n"
          ]
        },
        {
          "output_type": "display_data",
          "data": {
            "image/jpeg": "[encoded data removed]",
            "text/plain": [
              "<IPython.core.display.Image object>"
            ]
          },
          "metadata": {}
        }
      ]
    },
    {
      "cell_type": "code",
      "source": [],
      "metadata": {
        "id": "J3ALDJ9IevFI"
      },
      "execution_count": null,
      "outputs": []
    }
  ]
}